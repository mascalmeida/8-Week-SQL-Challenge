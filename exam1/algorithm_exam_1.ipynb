{
  "nbformat": 4,
  "nbformat_minor": 0,
  "metadata": {
    "colab": {
      "provenance": [],
      "authorship_tag": "ABX9TyO7K5a3WjZf5lnlqotghQFu",
      "include_colab_link": true
    },
    "kernelspec": {
      "name": "python3",
      "display_name": "Python 3"
    },
    "language_info": {
      "name": "python"
    }
  },
  "cells": [
    {
      "cell_type": "markdown",
      "metadata": {
        "id": "view-in-github",
        "colab_type": "text"
      },
      "source": [
        "<a href=\"https://colab.research.google.com/github/mascalmeida/8-Week-SQL-Challenge/blob/main/exam1/algorithm_exam_1.ipynb\" target=\"_parent\"><img src=\"https://colab.research.google.com/assets/colab-badge.svg\" alt=\"Open In Colab\"/></a>"
      ]
    },
    {
      "cell_type": "markdown",
      "source": [
        "# Especificação\n",
        "Especificação: 21/04/2024 – Entrega: 15/05/2024.\n",
        "\n",
        "Resolva os problemas descritos como exercı́cios nas notas de aula sobre divisão e conquista. Para cada um deles, proponha duas soluções, uma usando divisão e conquista enquanto a outra sem fazer uso desta técnica. Você deve comparar ambas as soluções experimentalmente, para cada um dos problemas. Para tanto, várias instâncias devem ser geradas, com crescentes tamanhos de entrada. O esforço computacional medido para encontrar as soluções devem então ser comparadas com os respectivas complexidades computacionais dadas pelas expressões assintóticas associadas.\n",
        "\n",
        "Por exemplo, suponha que um problema P a ser resolvido tem instâncias de tamanho n, com n representando o número de elementos contidos numa sequência de entrada. Para a avaliação experimental, diversas sequências de entrada devem ser geradas para cada valor de n considerado. Se A e B são dois algoritmos que resolvem P , o segundo baseado em divisão e conquista, com complexidades O(n^2) e O(n log n), respectivamente, eles seriam avaliados experimentalmente contabilizando o esforço médio que fazem para resolver P para as diversas instâncias de tamanho n a fim de: (a) saber se o esforço médio está próximo das respectivas complexidades (no pior caso); e (b) mensurar o ganho obtido com a versão baseada em divisão e conquista.\n",
        "\n",
        "O trabalho a ser entregue deverá ser em forma de relatório contendo:\n",
        "\n",
        "*   A descrição das soluções desenvolvidas, com a derivação das respectivas complexidades computacionais no pior caso.\n",
        "*   A descrição dos experimentos elaborados para cada problema.\n",
        "*   Apresentação dos resultados encontrados, contendo discussões sobre as principais observações e conclusões.\n",
        "*   Referências bibliográficas consultadas.\n",
        "\n",
        "O trabalho pode ser feito em dupla. Para qualquer indı́cio de plágio entre diferentes trabalhos, serão atribuı́das nota zero a todos os envolvidos.\n",
        "\n",
        "[ic0004-trabalho.pdf](https://ava.ufba.br/pluginfile.php/4762810/mod_assign/introattachment/0/ic0004-trabalho.pdf?forcedownload=1)\n",
        "\n",
        "[03-div-conquista.pdf](https://drive.google.com/file/d/13cuM-VZBbaDOcjzC8iGREhPGZsUWpch2/view)"
      ],
      "metadata": {
        "id": "8UxJtOKIGOWa"
      }
    },
    {
      "cell_type": "code",
      "source": [
        "# Pacotes\n",
        "## problema 1\n",
        "import numpy as np"
      ],
      "metadata": {
        "id": "sENrIJoNNw7Y"
      },
      "execution_count": 31,
      "outputs": []
    },
    {
      "cell_type": "markdown",
      "source": [
        "## Problema 1\n",
        "\n",
        "Dado um conjunto de n pontos num plano cartesiano, derive um algoritmo para encontrar neste conjunto o par de pontos mais próximos. O tempo de execução deve ser O(n log n) no pior caso."
      ],
      "metadata": {
        "id": "AAaPb0KpJXSn"
      }
    },
    {
      "cell_type": "code",
      "source": [
        "# Funções\n",
        "## 1 - função para calcular a distância euclidiana\n",
        "### d = ((ax - bx)^2 + (ay - by)^2)^1/2\n",
        "def d_euclidiana(a, b):\n",
        "  d = ((a[0] - b[0])**2 + (a[1] - b[1])**2)**(1/2)\n",
        "  return d\n",
        "\n",
        "## 2 - função para criar n pontos num plano cartesiano\n",
        "def n_pontos(n, max=10):\n",
        "  coords = np.random.rand(n, 2) * max\n",
        "  return coords"
      ],
      "metadata": {
        "id": "fm8h4h-YKUtM"
      },
      "execution_count": 32,
      "outputs": []
    },
    {
      "cell_type": "markdown",
      "source": [
        "### Sem divisão e conquista\n",
        "\n",
        "Como o algorito tem um laço de j até n dentro de outro laço de i até n, o tempo de execução no pior caso para abordagem sem a técnica de divisão e conquista é **O(n^2)**."
      ],
      "metadata": {
        "id": "p6W2OtSNJ0Or"
      }
    },
    {
      "cell_type": "code",
      "source": [
        "# criando um vetor de n pontos\n",
        "n = 5\n",
        "x = n_pontos(n)\n",
        "# criando objetos dos loops\n",
        "d_menor = d_euclidiana(x[0], x[1])\n",
        "idx_1 = 0\n",
        "idx_2 = 1\n",
        "# loop para fixar um ponto\n",
        "for i in range(n-1):\n",
        "  print('i', i)\n",
        "  # loop para varrer o vetor de pontos\n",
        "  for j in range(i+1, n):\n",
        "    print('j', j)\n",
        "    d = d_euclidiana(x[i], x[j])\n",
        "    print(d)\n",
        "    # pegando os indices da menor distancia\n",
        "    if d <= d_menor:\n",
        "      d_menor = d\n",
        "      idx_1 = i\n",
        "      idx_2 = j\n",
        "print('ponto', idx_1, x[idx_1])\n",
        "print('ponto', idx_2, x[idx_2])\n",
        "print('distância', d_menor)"
      ],
      "metadata": {
        "colab": {
          "base_uri": "https://localhost:8080/"
        },
        "id": "MY63uLACOr0U",
        "outputId": "b1044036-6bb8-4f8b-fb04-d33816a428d7"
      },
      "execution_count": 75,
      "outputs": [
        {
          "output_type": "stream",
          "name": "stdout",
          "text": [
            "i 0\n",
            "j 1\n",
            "5.399936162628024\n",
            "j 2\n",
            "5.97082752567608\n",
            "j 3\n",
            "3.046154974671588\n",
            "j 4\n",
            "6.008295834490029\n",
            "i 1\n",
            "j 2\n",
            "5.115871235985975\n",
            "j 3\n",
            "3.0931067725391093\n",
            "j 4\n",
            "3.221698606932316\n",
            "i 2\n",
            "j 3\n",
            "3.4409185527990727\n",
            "j 4\n",
            "8.126592960445677\n",
            "i 3\n",
            "j 4\n",
            "5.251069017144402\n",
            "ponto 0 [5.55485888 5.52435163]\n",
            "ponto 3 [3.83908896 3.00737056]\n",
            "distância 3.046154974671588\n"
          ]
        }
      ]
    },
    {
      "cell_type": "markdown",
      "source": [
        "### Usando divisão e conquista"
      ],
      "metadata": {
        "id": "Chsr5bjTJ-eV"
      }
    },
    {
      "cell_type": "code",
      "source": [
        "print('Solução usando divisão e conquista')"
      ],
      "metadata": {
        "colab": {
          "base_uri": "https://localhost:8080/"
        },
        "id": "NN0lCytsGZij",
        "outputId": "b8a1f789-e35c-4101-b2f9-8a54e656c5cd"
      },
      "execution_count": 34,
      "outputs": [
        {
          "output_type": "stream",
          "name": "stdout",
          "text": [
            "Solução usando divisão e conquista\n"
          ]
        }
      ]
    }
  ]
}